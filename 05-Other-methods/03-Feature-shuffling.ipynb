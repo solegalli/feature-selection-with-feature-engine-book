{
 "cells": [
  {
   "cell_type": "markdown",
   "metadata": {},
   "source": [
    "## Selection by Feature Shuffling"
   ]
  },
  {
   "cell_type": "code",
   "execution_count": 1,
   "metadata": {},
   "outputs": [],
   "source": [
    "import pandas as pd\n",
    "import matplotlib.pyplot as plt\n",
    "\n",
    "from sklearn.base import clone\n",
    "from sklearn.datasets import load_breast_cancer\n",
    "from sklearn.ensemble import RandomForestClassifier\n",
    "from sklearn.metrics import roc_auc_score\n",
    "from sklearn.model_selection import train_test_split\n",
    "\n",
    "from feature_engine.selection import SelectByShuffling"
   ]
  },
  {
   "cell_type": "code",
   "execution_count": 2,
   "metadata": {},
   "outputs": [
    {
     "data": {
      "text/html": [
       "<div>\n",
       "<style scoped>\n",
       "    .dataframe tbody tr th:only-of-type {\n",
       "        vertical-align: middle;\n",
       "    }\n",
       "\n",
       "    .dataframe tbody tr th {\n",
       "        vertical-align: top;\n",
       "    }\n",
       "\n",
       "    .dataframe thead th {\n",
       "        text-align: right;\n",
       "    }\n",
       "</style>\n",
       "<table border=\"1\" class=\"dataframe\">\n",
       "  <thead>\n",
       "    <tr style=\"text-align: right;\">\n",
       "      <th></th>\n",
       "      <th>mean radius</th>\n",
       "      <th>mean texture</th>\n",
       "      <th>mean perimeter</th>\n",
       "      <th>mean area</th>\n",
       "      <th>mean smoothness</th>\n",
       "      <th>mean compactness</th>\n",
       "      <th>mean concavity</th>\n",
       "      <th>mean concave points</th>\n",
       "      <th>mean symmetry</th>\n",
       "      <th>mean fractal dimension</th>\n",
       "      <th>...</th>\n",
       "      <th>worst radius</th>\n",
       "      <th>worst texture</th>\n",
       "      <th>worst perimeter</th>\n",
       "      <th>worst area</th>\n",
       "      <th>worst smoothness</th>\n",
       "      <th>worst compactness</th>\n",
       "      <th>worst concavity</th>\n",
       "      <th>worst concave points</th>\n",
       "      <th>worst symmetry</th>\n",
       "      <th>worst fractal dimension</th>\n",
       "    </tr>\n",
       "  </thead>\n",
       "  <tbody>\n",
       "    <tr>\n",
       "      <th>293</th>\n",
       "      <td>11.85</td>\n",
       "      <td>17.46</td>\n",
       "      <td>75.54</td>\n",
       "      <td>432.7</td>\n",
       "      <td>0.08372</td>\n",
       "      <td>0.05642</td>\n",
       "      <td>0.026880</td>\n",
       "      <td>0.022800</td>\n",
       "      <td>0.1875</td>\n",
       "      <td>0.05715</td>\n",
       "      <td>...</td>\n",
       "      <td>13.06</td>\n",
       "      <td>25.75</td>\n",
       "      <td>84.35</td>\n",
       "      <td>517.8</td>\n",
       "      <td>0.1369</td>\n",
       "      <td>0.17580</td>\n",
       "      <td>0.13160</td>\n",
       "      <td>0.09140</td>\n",
       "      <td>0.3101</td>\n",
       "      <td>0.07007</td>\n",
       "    </tr>\n",
       "    <tr>\n",
       "      <th>332</th>\n",
       "      <td>11.22</td>\n",
       "      <td>19.86</td>\n",
       "      <td>71.94</td>\n",
       "      <td>387.3</td>\n",
       "      <td>0.10540</td>\n",
       "      <td>0.06779</td>\n",
       "      <td>0.005006</td>\n",
       "      <td>0.007583</td>\n",
       "      <td>0.1940</td>\n",
       "      <td>0.06028</td>\n",
       "      <td>...</td>\n",
       "      <td>11.98</td>\n",
       "      <td>25.78</td>\n",
       "      <td>76.91</td>\n",
       "      <td>436.1</td>\n",
       "      <td>0.1424</td>\n",
       "      <td>0.09669</td>\n",
       "      <td>0.01335</td>\n",
       "      <td>0.02022</td>\n",
       "      <td>0.3292</td>\n",
       "      <td>0.06522</td>\n",
       "    </tr>\n",
       "    <tr>\n",
       "      <th>565</th>\n",
       "      <td>20.13</td>\n",
       "      <td>28.25</td>\n",
       "      <td>131.20</td>\n",
       "      <td>1261.0</td>\n",
       "      <td>0.09780</td>\n",
       "      <td>0.10340</td>\n",
       "      <td>0.144000</td>\n",
       "      <td>0.097910</td>\n",
       "      <td>0.1752</td>\n",
       "      <td>0.05533</td>\n",
       "      <td>...</td>\n",
       "      <td>23.69</td>\n",
       "      <td>38.25</td>\n",
       "      <td>155.00</td>\n",
       "      <td>1731.0</td>\n",
       "      <td>0.1166</td>\n",
       "      <td>0.19220</td>\n",
       "      <td>0.32150</td>\n",
       "      <td>0.16280</td>\n",
       "      <td>0.2572</td>\n",
       "      <td>0.06637</td>\n",
       "    </tr>\n",
       "    <tr>\n",
       "      <th>278</th>\n",
       "      <td>13.59</td>\n",
       "      <td>17.84</td>\n",
       "      <td>86.24</td>\n",
       "      <td>572.3</td>\n",
       "      <td>0.07948</td>\n",
       "      <td>0.04052</td>\n",
       "      <td>0.019970</td>\n",
       "      <td>0.012380</td>\n",
       "      <td>0.1573</td>\n",
       "      <td>0.05520</td>\n",
       "      <td>...</td>\n",
       "      <td>15.50</td>\n",
       "      <td>26.10</td>\n",
       "      <td>98.91</td>\n",
       "      <td>739.1</td>\n",
       "      <td>0.1050</td>\n",
       "      <td>0.07622</td>\n",
       "      <td>0.10600</td>\n",
       "      <td>0.05185</td>\n",
       "      <td>0.2335</td>\n",
       "      <td>0.06263</td>\n",
       "    </tr>\n",
       "    <tr>\n",
       "      <th>489</th>\n",
       "      <td>16.69</td>\n",
       "      <td>20.20</td>\n",
       "      <td>107.10</td>\n",
       "      <td>857.6</td>\n",
       "      <td>0.07497</td>\n",
       "      <td>0.07112</td>\n",
       "      <td>0.036490</td>\n",
       "      <td>0.023070</td>\n",
       "      <td>0.1846</td>\n",
       "      <td>0.05325</td>\n",
       "      <td>...</td>\n",
       "      <td>19.18</td>\n",
       "      <td>26.56</td>\n",
       "      <td>127.30</td>\n",
       "      <td>1084.0</td>\n",
       "      <td>0.1009</td>\n",
       "      <td>0.29200</td>\n",
       "      <td>0.24770</td>\n",
       "      <td>0.08737</td>\n",
       "      <td>0.4677</td>\n",
       "      <td>0.07623</td>\n",
       "    </tr>\n",
       "  </tbody>\n",
       "</table>\n",
       "<p>5 rows × 30 columns</p>\n",
       "</div>"
      ],
      "text/plain": [
       "     mean radius  mean texture  mean perimeter  mean area  mean smoothness  \\\n",
       "293        11.85         17.46           75.54      432.7          0.08372   \n",
       "332        11.22         19.86           71.94      387.3          0.10540   \n",
       "565        20.13         28.25          131.20     1261.0          0.09780   \n",
       "278        13.59         17.84           86.24      572.3          0.07948   \n",
       "489        16.69         20.20          107.10      857.6          0.07497   \n",
       "\n",
       "     mean compactness  mean concavity  mean concave points  mean symmetry  \\\n",
       "293           0.05642        0.026880             0.022800         0.1875   \n",
       "332           0.06779        0.005006             0.007583         0.1940   \n",
       "565           0.10340        0.144000             0.097910         0.1752   \n",
       "278           0.04052        0.019970             0.012380         0.1573   \n",
       "489           0.07112        0.036490             0.023070         0.1846   \n",
       "\n",
       "     mean fractal dimension  ...  worst radius  worst texture  \\\n",
       "293                 0.05715  ...         13.06          25.75   \n",
       "332                 0.06028  ...         11.98          25.78   \n",
       "565                 0.05533  ...         23.69          38.25   \n",
       "278                 0.05520  ...         15.50          26.10   \n",
       "489                 0.05325  ...         19.18          26.56   \n",
       "\n",
       "     worst perimeter  worst area  worst smoothness  worst compactness  \\\n",
       "293            84.35       517.8            0.1369            0.17580   \n",
       "332            76.91       436.1            0.1424            0.09669   \n",
       "565           155.00      1731.0            0.1166            0.19220   \n",
       "278            98.91       739.1            0.1050            0.07622   \n",
       "489           127.30      1084.0            0.1009            0.29200   \n",
       "\n",
       "     worst concavity  worst concave points  worst symmetry  \\\n",
       "293          0.13160               0.09140          0.3101   \n",
       "332          0.01335               0.02022          0.3292   \n",
       "565          0.32150               0.16280          0.2572   \n",
       "278          0.10600               0.05185          0.2335   \n",
       "489          0.24770               0.08737          0.4677   \n",
       "\n",
       "     worst fractal dimension  \n",
       "293                  0.07007  \n",
       "332                  0.06522  \n",
       "565                  0.06637  \n",
       "278                  0.06263  \n",
       "489                  0.07623  \n",
       "\n",
       "[5 rows x 30 columns]"
      ]
     },
     "execution_count": 2,
     "metadata": {},
     "output_type": "execute_result"
    }
   ],
   "source": [
    "# load dataset\n",
    "\n",
    "breast_cancer = load_breast_cancer()\n",
    "X = pd.DataFrame(breast_cancer.data, columns=breast_cancer.feature_names)\n",
    "y = breast_cancer.target\n",
    "\n",
    "# Separate data into train and test sets\n",
    "X_train, X_test, y_train, y_test = train_test_split(X, y, random_state=0)\n",
    "\n",
    "X_train.head()"
   ]
  },
  {
   "cell_type": "code",
   "execution_count": 3,
   "metadata": {},
   "outputs": [],
   "source": [
    "# the ML model for which we want to select features\n",
    "\n",
    "rf = RandomForestClassifier(\n",
    "    n_estimators=10,\n",
    "    random_state=2909,\n",
    ")"
   ]
  },
  {
   "cell_type": "markdown",
   "metadata": {},
   "source": [
    "## Feature-engine"
   ]
  },
  {
   "cell_type": "code",
   "execution_count": 4,
   "metadata": {},
   "outputs": [
    {
     "data": {
      "text/html": [
       "<style>#sk-container-id-1 {color: black;background-color: white;}#sk-container-id-1 pre{padding: 0;}#sk-container-id-1 div.sk-toggleable {background-color: white;}#sk-container-id-1 label.sk-toggleable__label {cursor: pointer;display: block;width: 100%;margin-bottom: 0;padding: 0.3em;box-sizing: border-box;text-align: center;}#sk-container-id-1 label.sk-toggleable__label-arrow:before {content: \"▸\";float: left;margin-right: 0.25em;color: #696969;}#sk-container-id-1 label.sk-toggleable__label-arrow:hover:before {color: black;}#sk-container-id-1 div.sk-estimator:hover label.sk-toggleable__label-arrow:before {color: black;}#sk-container-id-1 div.sk-toggleable__content {max-height: 0;max-width: 0;overflow: hidden;text-align: left;background-color: #f0f8ff;}#sk-container-id-1 div.sk-toggleable__content pre {margin: 0.2em;color: black;border-radius: 0.25em;background-color: #f0f8ff;}#sk-container-id-1 input.sk-toggleable__control:checked~div.sk-toggleable__content {max-height: 200px;max-width: 100%;overflow: auto;}#sk-container-id-1 input.sk-toggleable__control:checked~label.sk-toggleable__label-arrow:before {content: \"▾\";}#sk-container-id-1 div.sk-estimator input.sk-toggleable__control:checked~label.sk-toggleable__label {background-color: #d4ebff;}#sk-container-id-1 div.sk-label input.sk-toggleable__control:checked~label.sk-toggleable__label {background-color: #d4ebff;}#sk-container-id-1 input.sk-hidden--visually {border: 0;clip: rect(1px 1px 1px 1px);clip: rect(1px, 1px, 1px, 1px);height: 1px;margin: -1px;overflow: hidden;padding: 0;position: absolute;width: 1px;}#sk-container-id-1 div.sk-estimator {font-family: monospace;background-color: #f0f8ff;border: 1px dotted black;border-radius: 0.25em;box-sizing: border-box;margin-bottom: 0.5em;}#sk-container-id-1 div.sk-estimator:hover {background-color: #d4ebff;}#sk-container-id-1 div.sk-parallel-item::after {content: \"\";width: 100%;border-bottom: 1px solid gray;flex-grow: 1;}#sk-container-id-1 div.sk-label:hover label.sk-toggleable__label {background-color: #d4ebff;}#sk-container-id-1 div.sk-serial::before {content: \"\";position: absolute;border-left: 1px solid gray;box-sizing: border-box;top: 0;bottom: 0;left: 50%;z-index: 0;}#sk-container-id-1 div.sk-serial {display: flex;flex-direction: column;align-items: center;background-color: white;padding-right: 0.2em;padding-left: 0.2em;position: relative;}#sk-container-id-1 div.sk-item {position: relative;z-index: 1;}#sk-container-id-1 div.sk-parallel {display: flex;align-items: stretch;justify-content: center;background-color: white;position: relative;}#sk-container-id-1 div.sk-item::before, #sk-container-id-1 div.sk-parallel-item::before {content: \"\";position: absolute;border-left: 1px solid gray;box-sizing: border-box;top: 0;bottom: 0;left: 50%;z-index: -1;}#sk-container-id-1 div.sk-parallel-item {display: flex;flex-direction: column;z-index: 1;position: relative;background-color: white;}#sk-container-id-1 div.sk-parallel-item:first-child::after {align-self: flex-end;width: 50%;}#sk-container-id-1 div.sk-parallel-item:last-child::after {align-self: flex-start;width: 50%;}#sk-container-id-1 div.sk-parallel-item:only-child::after {width: 0;}#sk-container-id-1 div.sk-dashed-wrapped {border: 1px dashed gray;margin: 0 0.4em 0.5em 0.4em;box-sizing: border-box;padding-bottom: 0.4em;background-color: white;}#sk-container-id-1 div.sk-label label {font-family: monospace;font-weight: bold;display: inline-block;line-height: 1.2em;}#sk-container-id-1 div.sk-label-container {text-align: center;}#sk-container-id-1 div.sk-container {/* jupyter's `normalize.less` sets `[hidden] { display: none; }` but bootstrap.min.css set `[hidden] { display: none !important; }` so we also need the `!important` here to be able to override the default hidden behavior on the sphinx rendered scikit-learn.org. See: https://github.com/scikit-learn/scikit-learn/issues/21755 */display: inline-block !important;position: relative;}#sk-container-id-1 div.sk-text-repr-fallback {display: none;}</style><div id=\"sk-container-id-1\" class=\"sk-top-container\"><div class=\"sk-text-repr-fallback\"><pre>SelectByShuffling(estimator=RandomForestClassifier(n_estimators=10,\n",
       "                                                   random_state=2909),\n",
       "                  random_state=1, threshold=0)</pre><b>In a Jupyter environment, please rerun this cell to show the HTML representation or trust the notebook. <br />On GitHub, the HTML representation is unable to render, please try loading this page with nbviewer.org.</b></div><div class=\"sk-container\" hidden><div class=\"sk-item sk-dashed-wrapped\"><div class=\"sk-label-container\"><div class=\"sk-label sk-toggleable\"><input class=\"sk-toggleable__control sk-hidden--visually\" id=\"sk-estimator-id-1\" type=\"checkbox\" ><label for=\"sk-estimator-id-1\" class=\"sk-toggleable__label sk-toggleable__label-arrow\">SelectByShuffling</label><div class=\"sk-toggleable__content\"><pre>SelectByShuffling(estimator=RandomForestClassifier(n_estimators=10,\n",
       "                                                   random_state=2909),\n",
       "                  random_state=1, threshold=0)</pre></div></div></div><div class=\"sk-parallel\"><div class=\"sk-parallel-item\"><div class=\"sk-item\"><div class=\"sk-label-container\"><div class=\"sk-label sk-toggleable\"><input class=\"sk-toggleable__control sk-hidden--visually\" id=\"sk-estimator-id-2\" type=\"checkbox\" ><label for=\"sk-estimator-id-2\" class=\"sk-toggleable__label sk-toggleable__label-arrow\">estimator: RandomForestClassifier</label><div class=\"sk-toggleable__content\"><pre>RandomForestClassifier(n_estimators=10, random_state=2909)</pre></div></div></div><div class=\"sk-serial\"><div class=\"sk-item\"><div class=\"sk-estimator sk-toggleable\"><input class=\"sk-toggleable__control sk-hidden--visually\" id=\"sk-estimator-id-3\" type=\"checkbox\" ><label for=\"sk-estimator-id-3\" class=\"sk-toggleable__label sk-toggleable__label-arrow\">RandomForestClassifier</label><div class=\"sk-toggleable__content\"><pre>RandomForestClassifier(n_estimators=10, random_state=2909)</pre></div></div></div></div></div></div></div></div></div></div>"
      ],
      "text/plain": [
       "SelectByShuffling(estimator=RandomForestClassifier(n_estimators=10,\n",
       "                                                   random_state=2909),\n",
       "                  random_state=1, threshold=0)"
      ]
     },
     "execution_count": 4,
     "metadata": {},
     "output_type": "execute_result"
    }
   ],
   "source": [
    "sel = SelectByShuffling(\n",
    "    estimator=rf, # the ML model\n",
    "    scoring='roc_auc', # the metric to evaluate\n",
    "    threshold=0,# the maximum performance drop allowed to select the feature\n",
    "    cv=3, # cross validation\n",
    "    random_state=1 # seed\n",
    ")\n",
    "\n",
    "sel.fit(X_train, y_train)"
   ]
  },
  {
   "cell_type": "code",
   "execution_count": 5,
   "metadata": {},
   "outputs": [
    {
     "data": {
      "text/plain": [
       "0.9822274044237158"
      ]
     },
     "execution_count": 5,
     "metadata": {},
     "output_type": "execute_result"
    }
   ],
   "source": [
    "# performance of model trained with all features\n",
    "\n",
    "sel.initial_model_performance_"
   ]
  },
  {
   "cell_type": "code",
   "execution_count": 6,
   "metadata": {},
   "outputs": [
    {
     "data": {
      "image/png": "[encoded data removed]",
      "text/plain": [
       "<Figure size 1440x432 with 1 Axes>"
      ]
     },
     "metadata": {
      "needs_background": "light"
     },
     "output_type": "display_data"
    }
   ],
   "source": [
    "# Changes in performance after shuffling each feature\n",
    "\n",
    "pd.Series(sel.performance_drifts_).plot.bar(figsize=(20,6))\n",
    "plt.title('Performance change after shuffling features')\n",
    "plt.ylabel('ROC-AUC change when feature was shuffled')\n",
    "plt.show()"
   ]
  },
  {
   "cell_type": "code",
   "execution_count": 7,
   "metadata": {},
   "outputs": [
    {
     "data": {
      "text/plain": [
       "['mean smoothness',\n",
       " 'mean compactness',\n",
       " 'mean concavity',\n",
       " 'mean symmetry',\n",
       " 'mean fractal dimension',\n",
       " 'radius error',\n",
       " 'texture error',\n",
       " 'perimeter error',\n",
       " 'smoothness error',\n",
       " 'compactness error',\n",
       " 'concavity error',\n",
       " 'concave points error',\n",
       " 'symmetry error',\n",
       " 'fractal dimension error',\n",
       " 'worst area',\n",
       " 'worst compactness',\n",
       " 'worst symmetry',\n",
       " 'worst fractal dimension']"
      ]
     },
     "execution_count": 7,
     "metadata": {},
     "output_type": "execute_result"
    }
   ],
   "source": [
    "# the features to remove\n",
    "\n",
    "sel.features_to_drop_"
   ]
  },
  {
   "cell_type": "code",
   "execution_count": 8,
   "metadata": {},
   "outputs": [
    {
     "data": {
      "text/plain": [
       "Index(['mean radius', 'mean texture', 'mean perimeter', 'mean area',\n",
       "       'mean smoothness', 'mean compactness', 'mean concavity',\n",
       "       'mean concave points', 'mean symmetry', 'mean fractal dimension',\n",
       "       'radius error', 'texture error', 'perimeter error', 'area error',\n",
       "       'smoothness error', 'compactness error', 'concavity error',\n",
       "       'concave points error', 'symmetry error', 'fractal dimension error',\n",
       "       'worst radius', 'worst texture', 'worst perimeter', 'worst area',\n",
       "       'worst smoothness', 'worst compactness', 'worst concavity',\n",
       "       'worst concave points', 'worst symmetry', 'worst fractal dimension'],\n",
       "      dtype='object')"
      ]
     },
     "execution_count": 8,
     "metadata": {},
     "output_type": "execute_result"
    }
   ],
   "source": [
    "# the selected features\n",
    "\n",
    "(pd.Series(sel.performance_drifts_)>0).index"
   ]
  },
  {
   "cell_type": "code",
   "execution_count": 9,
   "metadata": {},
   "outputs": [
    {
     "data": {
      "text/html": [
       "<div>\n",
       "<style scoped>\n",
       "    .dataframe tbody tr th:only-of-type {\n",
       "        vertical-align: middle;\n",
       "    }\n",
       "\n",
       "    .dataframe tbody tr th {\n",
       "        vertical-align: top;\n",
       "    }\n",
       "\n",
       "    .dataframe thead th {\n",
       "        text-align: right;\n",
       "    }\n",
       "</style>\n",
       "<table border=\"1\" class=\"dataframe\">\n",
       "  <thead>\n",
       "    <tr style=\"text-align: right;\">\n",
       "      <th></th>\n",
       "      <th>mean radius</th>\n",
       "      <th>mean texture</th>\n",
       "      <th>mean perimeter</th>\n",
       "      <th>mean area</th>\n",
       "      <th>mean concave points</th>\n",
       "      <th>area error</th>\n",
       "      <th>worst radius</th>\n",
       "      <th>worst texture</th>\n",
       "      <th>worst perimeter</th>\n",
       "      <th>worst smoothness</th>\n",
       "      <th>worst concavity</th>\n",
       "      <th>worst concave points</th>\n",
       "    </tr>\n",
       "  </thead>\n",
       "  <tbody>\n",
       "    <tr>\n",
       "      <th>512</th>\n",
       "      <td>13.40</td>\n",
       "      <td>20.52</td>\n",
       "      <td>88.64</td>\n",
       "      <td>556.7</td>\n",
       "      <td>0.08172</td>\n",
       "      <td>33.67</td>\n",
       "      <td>16.41</td>\n",
       "      <td>29.66</td>\n",
       "      <td>113.30</td>\n",
       "      <td>0.15740</td>\n",
       "      <td>0.51060</td>\n",
       "      <td>0.20510</td>\n",
       "    </tr>\n",
       "    <tr>\n",
       "      <th>457</th>\n",
       "      <td>13.21</td>\n",
       "      <td>25.25</td>\n",
       "      <td>84.10</td>\n",
       "      <td>537.9</td>\n",
       "      <td>0.02068</td>\n",
       "      <td>17.58</td>\n",
       "      <td>14.35</td>\n",
       "      <td>34.23</td>\n",
       "      <td>91.29</td>\n",
       "      <td>0.12890</td>\n",
       "      <td>0.13900</td>\n",
       "      <td>0.06005</td>\n",
       "    </tr>\n",
       "    <tr>\n",
       "      <th>439</th>\n",
       "      <td>14.02</td>\n",
       "      <td>15.66</td>\n",
       "      <td>89.59</td>\n",
       "      <td>606.5</td>\n",
       "      <td>0.02652</td>\n",
       "      <td>19.25</td>\n",
       "      <td>14.91</td>\n",
       "      <td>19.31</td>\n",
       "      <td>96.53</td>\n",
       "      <td>0.10340</td>\n",
       "      <td>0.06260</td>\n",
       "      <td>0.08216</td>\n",
       "    </tr>\n",
       "    <tr>\n",
       "      <th>298</th>\n",
       "      <td>14.26</td>\n",
       "      <td>18.17</td>\n",
       "      <td>91.22</td>\n",
       "      <td>633.1</td>\n",
       "      <td>0.01374</td>\n",
       "      <td>20.56</td>\n",
       "      <td>16.22</td>\n",
       "      <td>25.26</td>\n",
       "      <td>105.80</td>\n",
       "      <td>0.09445</td>\n",
       "      <td>0.15650</td>\n",
       "      <td>0.07530</td>\n",
       "    </tr>\n",
       "    <tr>\n",
       "      <th>37</th>\n",
       "      <td>13.03</td>\n",
       "      <td>18.42</td>\n",
       "      <td>82.61</td>\n",
       "      <td>523.8</td>\n",
       "      <td>0.02923</td>\n",
       "      <td>14.16</td>\n",
       "      <td>13.30</td>\n",
       "      <td>22.81</td>\n",
       "      <td>84.46</td>\n",
       "      <td>0.09701</td>\n",
       "      <td>0.04833</td>\n",
       "      <td>0.05013</td>\n",
       "    </tr>\n",
       "  </tbody>\n",
       "</table>\n",
       "</div>"
      ],
      "text/plain": [
       "     mean radius  mean texture  mean perimeter  mean area  \\\n",
       "512        13.40         20.52           88.64      556.7   \n",
       "457        13.21         25.25           84.10      537.9   \n",
       "439        14.02         15.66           89.59      606.5   \n",
       "298        14.26         18.17           91.22      633.1   \n",
       "37         13.03         18.42           82.61      523.8   \n",
       "\n",
       "     mean concave points  area error  worst radius  worst texture  \\\n",
       "512              0.08172       33.67         16.41          29.66   \n",
       "457              0.02068       17.58         14.35          34.23   \n",
       "439              0.02652       19.25         14.91          19.31   \n",
       "298              0.01374       20.56         16.22          25.26   \n",
       "37               0.02923       14.16         13.30          22.81   \n",
       "\n",
       "     worst perimeter  worst smoothness  worst concavity  worst concave points  \n",
       "512           113.30           0.15740          0.51060               0.20510  \n",
       "457            91.29           0.12890          0.13900               0.06005  \n",
       "439            96.53           0.10340          0.06260               0.08216  \n",
       "298           105.80           0.09445          0.15650               0.07530  \n",
       "37             84.46           0.09701          0.04833               0.05013  "
      ]
     },
     "execution_count": 9,
     "metadata": {},
     "output_type": "execute_result"
    }
   ],
   "source": [
    "# reduce dataset\n",
    "\n",
    "X_train_t = sel.transform(X_train)\n",
    "X_test_t = sel.transform(X_test)\n",
    "\n",
    "X_test_t.head()"
   ]
  },
  {
   "cell_type": "markdown",
   "metadata": {},
   "source": [
    "## Manual"
   ]
  },
  {
   "cell_type": "code",
   "execution_count": 10,
   "metadata": {
    "scrolled": true
   },
   "outputs": [
    {
     "name": "stdout",
     "output_type": "stream",
     "text": [
      "train auc score:  0.9998822226933315\n",
      "test auc score:  0.9908805031446541\n"
     ]
    }
   ],
   "source": [
    "# train model using all features\n",
    "rf.fit(X_train, y_train)\n",
    "\n",
    "# print roc-auc in train and testing sets\n",
    "print('train auc score: ',\n",
    "      roc_auc_score(y_train, (rf.predict_proba(X_train.fillna(0)))[:, 1]))\n",
    "print('test auc score: ',\n",
    "      roc_auc_score(y_test, (rf.predict_proba(X_test.fillna(0)))[:, 1]))"
   ]
  },
  {
   "cell_type": "code",
   "execution_count": 11,
   "metadata": {},
   "outputs": [],
   "source": [
    "# train roc-auc: using all the features\n",
    "train_roc = roc_auc_score(y_train, (rf.predict_proba(X_train))[:, 1])\n",
    "\n",
    "# list to capture the performance shift\n",
    "performance_shift = []\n",
    "\n",
    "for feature in X_train.columns:\n",
    "\n",
    "    X_train_c = X_train.copy()\n",
    "\n",
    "    # shuffle individual feature\n",
    "    shuffle = X_train_c[feature].sample(frac=1, random_state=10)\n",
    "    shuffle.index = X_train_c.index\n",
    "    X_train_c[feature] = shuffle\n",
    "\n",
    "    # make prediction with shuffled feature and calculate roc-auc\n",
    "    shuff_roc = roc_auc_score(y_train, rf.predict_proba(X_train_c)[:, 1])\n",
    "    \n",
    "    # calculate performance change\n",
    "    drift = train_roc - shuff_roc\n",
    "\n",
    "    # save the drop in roc-auc\n",
    "    performance_shift.append(drift)"
   ]
  },
  {
   "cell_type": "code",
   "execution_count": 12,
   "metadata": {},
   "outputs": [
    {
     "data": {
      "text/plain": [
       "[0.0,\n",
       " 0.0002826655360045338,\n",
       " -0.00010599957600176957,\n",
       " 7.06663840011057e-05,\n",
       " 2.35554613337019e-05,\n",
       " 1.177773066685095e-05,\n",
       " 0.0002591100746708319,\n",
       " 0.0017313264080277557,\n",
       " 1.177773066685095e-05,\n",
       " 0.0,\n",
       " 5.888865333425475e-05,\n",
       " 1.177773066685095e-05,\n",
       " 0.00020022142133657717,\n",
       " 7.06663840011057e-05,\n",
       " -4.71109226674038e-05,\n",
       " 2.35554613337019e-05,\n",
       " 0.00010599957600165855,\n",
       " 4.71109226674038e-05,\n",
       " 1.177773066685095e-05,\n",
       " 4.71109226674038e-05,\n",
       " 0.00012955503733547147,\n",
       " 0.0004004428426730433,\n",
       " 0.007290415282783402,\n",
       " 1.177773066685095e-05,\n",
       " 0.00012955503733547147,\n",
       " 0.0,\n",
       " 0.0005299978800085148,\n",
       " 0.0004004428426730433,\n",
       " 7.06663840011057e-05,\n",
       " 0.0]"
      ]
     },
     "execution_count": 12,
     "metadata": {},
     "output_type": "execute_result"
    }
   ],
   "source": [
    "# list of performance changes\n",
    "\n",
    "performance_shift"
   ]
  },
  {
   "cell_type": "code",
   "execution_count": 13,
   "metadata": {},
   "outputs": [
    {
     "data": {
      "text/plain": [
       "worst perimeter         0.007290\n",
       "mean concave points     0.001731\n",
       "worst concavity         0.000530\n",
       "worst concave points    0.000400\n",
       "worst texture           0.000400\n",
       "dtype: float64"
      ]
     },
     "execution_count": 13,
     "metadata": {},
     "output_type": "execute_result"
    }
   ],
   "source": [
    "# transform the list into a pandas Series\n",
    "\n",
    "feature_importance = pd.Series(\n",
    "    performance_shift, index=X_train.columns).sort_values(ascending=False)\n",
    "\n",
    "feature_importance.head()"
   ]
  },
  {
   "cell_type": "code",
   "execution_count": 14,
   "metadata": {},
   "outputs": [
    {
     "data": {
      "text/plain": [
       "24"
      ]
     },
     "execution_count": 14,
     "metadata": {},
     "output_type": "execute_result"
    }
   ],
   "source": [
    "# number of features that cause a drop in performance\n",
    "# when shuffled\n",
    "\n",
    "feature_importance[feature_importance>0].shape[0]"
   ]
  },
  {
   "cell_type": "code",
   "execution_count": 15,
   "metadata": {},
   "outputs": [
    {
     "data": {
      "text/plain": [
       "Index(['worst perimeter', 'mean concave points', 'worst concavity',\n",
       "       'worst concave points', 'worst texture', 'mean texture',\n",
       "       'mean concavity', 'perimeter error', 'worst radius', 'worst smoothness',\n",
       "       'concavity error', 'area error', 'mean area', 'worst symmetry',\n",
       "       'radius error', 'concave points error', 'fractal dimension error',\n",
       "       'mean smoothness', 'compactness error', 'texture error',\n",
       "       'mean symmetry', 'mean compactness', 'symmetry error', 'worst area'],\n",
       "      dtype='object')"
      ]
     },
     "execution_count": 15,
     "metadata": {},
     "output_type": "execute_result"
    }
   ],
   "source": [
    "# print important features\n",
    "\n",
    "feature_importance[feature_importance>0].index"
   ]
  },
  {
   "cell_type": "code",
   "execution_count": 16,
   "metadata": {},
   "outputs": [
    {
     "name": "stdout",
     "output_type": "stream",
     "text": [
      "train auc score:  0.9999882222693333\n",
      "test auc score:  0.9959119496855346\n"
     ]
    }
   ],
   "source": [
    "# selected features\n",
    "selected_features = feature_importance[feature_importance > 0].index\n",
    "\n",
    "# train random forests using the selected features\n",
    "rf = clone(rf)\n",
    "rf.fit(X_train[selected_features], y_train)\n",
    "\n",
    "# print roc-auc in train and testing sets\n",
    "print(\n",
    "    'train auc score: ',\n",
    "    roc_auc_score(y_train, (rf.predict_proba(X_train[selected_features]))[:,\n",
    "                                                                          1]))\n",
    "print(\n",
    "    'test auc score: ',\n",
    "    roc_auc_score(y_test, (rf.predict_proba(X_test[selected_features]))[:, 1]))"
   ]
  }
 ],
 "metadata": {
  "kernelspec": {
   "display_name": "fsml",
   "language": "python",
   "name": "fsml"
  },
  "language_info": {
   "codemirror_mode": {
    "name": "ipython",
    "version": 3
   },
   "file_extension": ".py",
   "mimetype": "text/x-python",
   "name": "python",
   "nbconvert_exporter": "python",
   "pygments_lexer": "ipython3",
   "version": "3.10.5"
  },
  "toc": {
   "base_numbering": 1,
   "nav_menu": {},
   "number_sections": true,
   "sideBar": true,
   "skip_h1_title": false,
   "title_cell": "Table of Contents",
   "title_sidebar": "Contents",
   "toc_cell": false,
   "toc_position": {},
   "toc_section_display": "block",
   "toc_window_display": true
  }
 },
 "nbformat": 4,
 "nbformat_minor": 2
}
